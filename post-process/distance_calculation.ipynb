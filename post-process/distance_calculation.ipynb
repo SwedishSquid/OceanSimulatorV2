{
 "cells": [
  {
   "cell_type": "code",
   "execution_count": 17,
   "metadata": {},
   "outputs": [],
   "source": [
    "import numpy as np"
   ]
  },
  {
   "cell_type": "markdown",
   "metadata": {},
   "source": [
    "info is taken from pack2 left side photos G0017251.JPG and G0017713.JPG"
   ]
  },
  {
   "cell_type": "code",
   "execution_count": 18,
   "metadata": {},
   "outputs": [
    {
     "name": "stdout",
     "output_type": "stream",
     "text": [
      "interval between frames ~ 1.948051948051948 +- 0.12987012987012986 seconds\n"
     ]
    }
   ],
   "source": [
    "passed_time = (36 - 21) * 60 # only approximate\n",
    "\n",
    "frames_count = 713 - 251\n",
    "\n",
    "print('interval between frames ~', passed_time / frames_count, '+-', 60 / frames_count, 'seconds')"
   ]
  },
  {
   "cell_type": "code",
   "execution_count": 19,
   "metadata": {},
   "outputs": [],
   "source": [
    "#                     latitude,   longitude\n",
    "start_gps = np.array([-40.54735, -53.31416])\n",
    "end_gps = np.array([-40.50671, -53.30268])"
   ]
  },
  {
   "cell_type": "code",
   "execution_count": 20,
   "metadata": {},
   "outputs": [],
   "source": [
    "def haversine(theta):\n",
    "    return np.sin(theta / 2) ** 2"
   ]
  },
  {
   "cell_type": "code",
   "execution_count": 21,
   "metadata": {},
   "outputs": [],
   "source": [
    "def haversine_formula(p1_rads, p2_rads):\n",
    "    lat_delta = p1_rads[0] - p2_rads[0]\n",
    "    long_delta = p1_rads[1] - p2_rads[1]\n",
    "    hav_of_central_angle = haversine(lat_delta) + np.cos(p1_rads[0]) * np.cos(p2_rads[0]) * haversine(long_delta)\n",
    "    return hav_of_central_angle"
   ]
  },
  {
   "cell_type": "code",
   "execution_count": 23,
   "metadata": {},
   "outputs": [
    {
     "name": "stdout",
     "output_type": "stream",
     "text": [
      "covered distance = 4621.954137523671 meters\n"
     ]
    }
   ],
   "source": [
    "# get distance\n",
    "\n",
    "r = 6371 * 1000 # meters\n",
    "\n",
    "central_hav = haversine_formula(start_gps * np.pi / 180, end_gps * np.pi / 180)\n",
    "dist = 2 * r * np.arcsin(np.sqrt(central_hav))\n",
    "print(f'covered distance = {dist} meters')"
   ]
  },
  {
   "cell_type": "code",
   "execution_count": 24,
   "metadata": {},
   "outputs": [
    {
     "name": "stdout",
     "output_type": "stream",
     "text": [
      "meters per frame = 10.004229734899722\n"
     ]
    }
   ],
   "source": [
    "print(f'meters per frame = {dist / frames_count}')"
   ]
  },
  {
   "cell_type": "code",
   "execution_count": 25,
   "metadata": {},
   "outputs": [
    {
     "name": "stdout",
     "output_type": "stream",
     "text": [
      "speed ~= 5.135504597248524 m / s\n"
     ]
    }
   ],
   "source": [
    "print(f'speed ~= {dist / passed_time} m / s')"
   ]
  },
  {
   "cell_type": "code",
   "execution_count": null,
   "metadata": {},
   "outputs": [],
   "source": []
  }
 ],
 "metadata": {
  "kernelspec": {
   "display_name": ".venv",
   "language": "python",
   "name": "python3"
  },
  "language_info": {
   "codemirror_mode": {
    "name": "ipython",
    "version": 3
   },
   "file_extension": ".py",
   "mimetype": "text/x-python",
   "name": "python",
   "nbconvert_exporter": "python",
   "pygments_lexer": "ipython3",
   "version": "3.11.3"
  }
 },
 "nbformat": 4,
 "nbformat_minor": 2
}
