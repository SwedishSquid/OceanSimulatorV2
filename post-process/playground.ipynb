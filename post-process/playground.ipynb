{
 "cells": [
  {
   "cell_type": "code",
   "execution_count": 1,
   "metadata": {},
   "outputs": [],
   "source": [
    "import matplotlib.pyplot as plt\n",
    "from glob import glob\n",
    "from tqdm import tqdm\n",
    "import cv2\n",
    "from pathlib import Path\n",
    "import numpy as np\n",
    "import shutil\n",
    "\n",
    "from tools import upscale_image, upscale_mask"
   ]
  },
  {
   "cell_type": "code",
   "execution_count": 2,
   "metadata": {},
   "outputs": [],
   "source": [
    "src_dir = Path('../dev_gen/one_frame_episodes')\n",
    "meta_config_path = src_dir.parent / \"MetaConfigCheckpoint.cs\"\n",
    "dst_dir = Path('../gen_results/one_frame_upscaled')\n",
    "\n",
    "\n",
    "image_folders = ['Gopro']\n",
    "mask_specifications = [('GoproFullSegMask', 2), ('GoproObjectOnlySegMask', 2), ('HorizonGopro', 0)]\n",
    "to_copy_folders = ['configs']"
   ]
  },
  {
   "cell_type": "code",
   "execution_count": 3,
   "metadata": {},
   "outputs": [],
   "source": [
    "assert not dst_dir.exists()"
   ]
  },
  {
   "cell_type": "code",
   "execution_count": 4,
   "metadata": {},
   "outputs": [
    {
     "name": "stdout",
     "output_type": "stream",
     "text": [
      "(3888, 5184, 3)\n"
     ]
    }
   ],
   "source": [
    "ref_image = cv2.imread('reference_image.JPG', cv2.IMREAD_UNCHANGED)\n",
    "print(ref_image.shape)"
   ]
  },
  {
   "cell_type": "markdown",
   "metadata": {},
   "source": [
    "# upscale and compress images"
   ]
  },
  {
   "cell_type": "code",
   "execution_count": 5,
   "metadata": {},
   "outputs": [
    {
     "name": "stdout",
     "output_type": "stream",
     "text": [
      "Gopro\n"
     ]
    },
    {
     "name": "stderr",
     "output_type": "stream",
     "text": [
      "100%|██████████| 5000/5000 [22:06<00:00,  3.77it/s]\n"
     ]
    }
   ],
   "source": [
    "for image_dir_name in image_folders:\n",
    "    print(image_dir_name)\n",
    "    for image_path in tqdm(glob(str(src_dir / image_dir_name / \"**\"))):\n",
    "        image = cv2.imread(image_path, cv2.IMREAD_UNCHANGED)\n",
    "        image = upscale_image(image)\n",
    "        \n",
    "        assert image.shape == ref_image.shape\n",
    "\n",
    "        save_to_path = dst_dir / image_dir_name / Path(image_path).with_suffix('.JPG').name\n",
    "        save_to_path.parent.mkdir(exist_ok=True, parents=True)\n",
    "        if not cv2.imwrite(save_to_path, image, [cv2.IMWRITE_JPEG_QUALITY, 93]):\n",
    "            raise ValueError(\"something went wrong and image wasn't saved\")"
   ]
  },
  {
   "cell_type": "markdown",
   "metadata": {},
   "source": [
    "# masks"
   ]
  },
  {
   "cell_type": "code",
   "execution_count": 6,
   "metadata": {},
   "outputs": [
    {
     "name": "stdout",
     "output_type": "stream",
     "text": [
      "GoproFullSegMask\n"
     ]
    },
    {
     "name": "stderr",
     "output_type": "stream",
     "text": [
      "100%|██████████| 5000/5000 [09:35<00:00,  8.69it/s]\n"
     ]
    },
    {
     "name": "stdout",
     "output_type": "stream",
     "text": [
      "GoproObjectOnlySegMask\n"
     ]
    },
    {
     "name": "stderr",
     "output_type": "stream",
     "text": [
      "100%|██████████| 5000/5000 [09:36<00:00,  8.67it/s]\n"
     ]
    },
    {
     "name": "stdout",
     "output_type": "stream",
     "text": [
      "HorizonGopro\n"
     ]
    },
    {
     "name": "stderr",
     "output_type": "stream",
     "text": [
      "100%|██████████| 5000/5000 [12:52<00:00,  6.47it/s]\n"
     ]
    }
   ],
   "source": [
    "for mask_dir_name, channel_idx in mask_specifications:\n",
    "    print(mask_dir_name)\n",
    "    for mask_path in tqdm(glob(str(src_dir / mask_dir_name / \"**\"))):\n",
    "        mask_like = cv2.imread(mask_path, cv2.IMREAD_UNCHANGED)[:, :, channel_idx]\n",
    "        mask = upscale_mask(mask_like)\n",
    "        \n",
    "        assert mask.shape == ref_image.shape[:2]\n",
    "\n",
    "        save_to_path = dst_dir / mask_dir_name / Path(mask_path).name\n",
    "        save_to_path.parent.mkdir(exist_ok=True, parents=True)\n",
    "        if not cv2.imwrite(save_to_path, mask):\n",
    "            raise ValueError(\"something went wrong and image wasn't saved\")"
   ]
  },
  {
   "cell_type": "code",
   "execution_count": 7,
   "metadata": {},
   "outputs": [
    {
     "name": "stdout",
     "output_type": "stream",
     "text": [
      "(3888, 5184) uint8\n",
      "[  0 255]\n"
     ]
    }
   ],
   "source": [
    "for mask_path in glob(str(dst_dir / mask_specifications[0][0] / \"**\")):\n",
    "    resaved_mask = cv2.imread(mask_path, cv2.IMREAD_UNCHANGED)\n",
    "    print(resaved_mask.shape, resaved_mask.dtype)\n",
    "    print(np.unique(resaved_mask))\n",
    "    break"
   ]
  },
  {
   "cell_type": "markdown",
   "metadata": {},
   "source": [
    "# copy other stuff"
   ]
  },
  {
   "cell_type": "code",
   "execution_count": 8,
   "metadata": {},
   "outputs": [
    {
     "name": "stdout",
     "output_type": "stream",
     "text": [
      "configs\n"
     ]
    }
   ],
   "source": [
    "for to_copy_dir_name in to_copy_folders:\n",
    "    print(to_copy_dir_name)\n",
    "    shutil.copytree(src_dir / to_copy_dir_name, dst_dir / to_copy_dir_name)"
   ]
  },
  {
   "cell_type": "code",
   "execution_count": 9,
   "metadata": {},
   "outputs": [
    {
     "data": {
      "text/plain": [
       "WindowsPath('../gen_results/one_frame_upscaled/MetaConfigCheckpoint.cs')"
      ]
     },
     "execution_count": 9,
     "metadata": {},
     "output_type": "execute_result"
    }
   ],
   "source": [
    "shutil.copyfile(meta_config_path, dst_dir / meta_config_path.name)"
   ]
  },
  {
   "cell_type": "code",
   "execution_count": null,
   "metadata": {},
   "outputs": [],
   "source": []
  }
 ],
 "metadata": {
  "kernelspec": {
   "display_name": ".venv",
   "language": "python",
   "name": "python3"
  },
  "language_info": {
   "codemirror_mode": {
    "name": "ipython",
    "version": 3
   },
   "file_extension": ".py",
   "mimetype": "text/x-python",
   "name": "python",
   "nbconvert_exporter": "python",
   "pygments_lexer": "ipython3",
   "version": "3.11.3"
  }
 },
 "nbformat": 4,
 "nbformat_minor": 2
}
